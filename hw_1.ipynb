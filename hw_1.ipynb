{
 "cells": [
  {
   "cell_type": "code",
   "execution_count": 2,
   "metadata": {},
   "outputs": [
    {
     "name": "stdout",
     "output_type": "stream",
     "text": [
      "The Holiday Party Oath:\n",
      "Tonight is the\", adjective, data bootcamp holiday party, and I do hereby promise that I will not make the same       adjective2 mistake as last year. I will not verb, too much eggnog and fall in my bodyPart . When Derek wishes me a merry noun,       I will not shout, \"What am I, a/an\", noun2-magent?\" I will not sniff near Derek's dogs and ask them why they're marinating in       such a/an adjective3 purfume. I will not make photocopies of my article and dance on the noun3. I will not step in the food       while dancing on the noun3. Understand that it does not amuse my classmates when I joke about machine, or when I say       \"this isn't a zoom meeting, it's (a/an), place with flouorescent lighting!\" This year I promise       I will be on my most adjective4 behavior, because, for the love of Dave, I can't keep looking for a new career every New Year's Day.\n"
     ]
    }
   ],
   "source": [
    "adjective = input(\"enter an adjective\")\n",
    "adjective2 = input(\"enter a different adjective\")\n",
    "verb = input(\"enter a verb\")\n",
    "bodyPart = input(\"enter a part-of-the-body\")\n",
    "noun = input(\"enter a noun\")\n",
    "noun2 = input(\"enter a different noun\")\n",
    "adjective3 = input(\"enter another adjective\")\n",
    "article = input(\"enter an article-of-clothing\")\n",
    "noun3 = input(\"enter another noun\")\n",
    "food = input(\"enter a food item\")\n",
    "machine = input(\"enter a machine learning algorithm\")\n",
    "place = input(\"enter a place\")\n",
    "adjective4 = input(\"enter yet another adjective, hopefully by this point you don't have to ask 'what is an adjective' anymore\")\n",
    "\n",
    "print(\"The Holiday Party Oath:\")\n",
    "print(\"\"\"Tonight is the\", adjective, data bootcamp holiday party, and I do hereby promise that I will not make the same \\\n",
    "      adjective2 mistake as last year. I will not verb, too much eggnog and fall in my bodyPart . When Derek wishes me a merry noun, \\\n",
    "      I will not shout, \"What am I, a/an\", noun2-magent?\" I will not sniff near Derek's dogs and ask them why they're marinating in \\\n",
    "      such a/an adjective3 purfume. I will not make photocopies of my article and dance on the noun3. I will not step in the food \\\n",
    "      while dancing on the noun3. Understand that it does not amuse my classmates when I joke about machine, or when I say \\\n",
    "      \"this isn't a zoom meeting, it's (a/an), place with flouorescent lighting!\" This year I promise \\\n",
    "      I will be on my most adjective4 behavior, because, for the love of Dave, I can't keep looking for a new career every New Year's Day.\"\"\")"
   ]
  },
  {
   "cell_type": "code",
   "execution_count": null,
   "metadata": {},
   "outputs": [],
   "source": []
  }
 ],
 "metadata": {
  "kernelspec": {
   "display_name": ".venv",
   "language": "python",
   "name": "python3"
  },
  "language_info": {
   "codemirror_mode": {
    "name": "ipython",
    "version": 3
   },
   "file_extension": ".py",
   "mimetype": "text/x-python",
   "name": "python",
   "nbconvert_exporter": "python",
   "pygments_lexer": "ipython3",
   "version": "3.12.3"
  }
 },
 "nbformat": 4,
 "nbformat_minor": 2
}
